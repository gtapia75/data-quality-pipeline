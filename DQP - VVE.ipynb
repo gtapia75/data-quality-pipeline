{
 "metadata": {
  "kernelspec": {
   "display_name": "Streamlit Notebook",
   "name": "streamlit"
  }
 },
 "nbformat_minor": 5,
 "nbformat": 4,
 "cells": [
  {
   "cell_type": "code",
   "id": "3775908f-ca36-4846-8f38-5adca39217f2",
   "metadata": {
    "language": "python",
    "name": "cell1",
    "resultHeight": 0
   },
   "source": "# Import python packages\nimport streamlit as st\nimport pandas as pd\nimport numpy as np\nfrom datetime import datetime, timedelta\n\n# We can also use Snowpark for our analyses!\nfrom snowflake.snowpark.context import get_active_session\nsession = get_active_session()\nimport warnings\nwarnings.filterwarnings(\"ignore\")\n",
   "execution_count": null,
   "outputs": []
  },
  {
   "cell_type": "code",
   "id": "8d50cbf4-0c8d-4950-86cb-114990437ac9",
   "metadata": {
    "language": "python",
    "name": "remove_double_quotes",
    "resultHeight": 0,
    "collapsed": false
   },
   "source": "def remove_double_quotes_from_object_columns(df):\n    object_columns = df.select_dtypes(include='object').columns\n    df[object_columns] = df[object_columns].apply(lambda col: col.str.replace('\"', ''))\n    return df",
   "execution_count": null,
   "outputs": []
  },
  {
   "cell_type": "code",
   "id": "c695373e-ac74-4b62-a1f1-08206cbd5c81",
   "metadata": {
    "language": "python",
    "name": "video_duration",
    "resultHeight": 0,
    "collapsed": false
   },
   "source": "def video_duration_validation(data):\n    print('##### Starting Video Duration Validation ######')\n    total_records = data.shape[0]\n    data_0 = data[data['VIDEO_DURATION'] == 0]\n    count_0 = data_0.shape[0]\n    if count_0 > 0:\n        print(f\"   Number of records with video_duration == 0: {count_0} represents the {round((count_0/total_records)*100,2)}%\")  \n        unique_videos = len(data_0['VIDEO_ID'].unique())\n        print(f'   Number of videos {unique_videos}')\n        print(data_0['VIDEO_ID'].unique())\n    print(f\"   Max Video Duration: {data['VIDEO_DURATION'].max()}\")\n    print('##### Ending Video Duration Validation ######')\n",
   "execution_count": null,
   "outputs": []
  },
  {
   "cell_type": "code",
   "id": "b696efe5-b904-4378-86e6-cafdb945894d",
   "metadata": {
    "language": "python",
    "name": "total_ad_capacity",
    "resultHeight": 0,
    "codeCollapsed": false,
    "collapsed": false
   },
   "outputs": [],
   "source": "def total_ad_capacity_validation(data):\n    print('##### Starting total ad capacity Validation ######')\n    total_records = data.shape[0]\n    total_0 = data[data['TOTAL_ADS_CAPACITY'] == 0].shape[0]\n    data[\"ADS_CAPACITY\"] = 1 + (data['VIDEO_DURATION'] // 120)\n    ads_dif = data[data['TOTAL_ADS_CAPACITY'] != data[\"ADS_CAPACITY\"]].shape[0]\n    ads_view = data[data['TOTAL_ADS_VIEWED'] > data['TOTAL_ADS_CAPACITY']].shape[0]\n    if total_0 > 0:\n        print(f\"   Number of records with total_ads_capacity == 0: {total_0} represents the {round((total_0/total_records)*100,2)}%\")   \n    if ads_dif > 0:\n        print(f\"   Number of records with incorrect Ads capacity: {ads_dif} represents the {round((ads_dif/total_records)*100,2)}%\")   \n    if ads_view > 0:\n        print(f\"   Number of records ads_viewed > ads_capacity: {ads_view} represents the {round((ads_view/total_records)*100,2)}%\")   \n\n    print('##### Ending total ad capacity Validation ######')",
   "execution_count": null
  },
  {
   "cell_type": "code",
   "id": "8eb9d166-4331-4765-a3f1-4f912b66cf96",
   "metadata": {
    "language": "python",
    "name": "max_playhead",
    "resultHeight": 0,
    "collapsed": false
   },
   "outputs": [],
   "source": "def max_playhead_validation(data):\n    print('##### Starting max playhead Validation ######')\n    data = data[data['VIDEO_SOURCE'] == 'webiny']\n    total_records = data.shape[0]\n    print(f'  Webiny Records {total_records}')\n    total_low   = data[data['MAX_PLAYHEAD_POSITION'] < 0].shape[0]\n    total_high  = data[data['MAX_PLAYHEAD_POSITION']       >  data['VIDEO_DURATION']].shape[0]\n    vid_compl   = data[(data['VIDEO_COMPLETED'] == 'true') &  (data['MAX_PLAYHEAD_POSITION'] ==0)].shape[0]\n    vid_compl2  = data[(data['VIDEO_COMPLETED'] == 'true') &  (data['MAX_PLAYHEAD_POSITION'] > data['VIDEO_DURATION'])].shape[0]\n    playhead_high = data[data['PLAYHEAD_POSITION'] > data['VIDEO_DURATION']].shape[0]\n    if total_low > 0:\n        print(f\"  1Number of records max_playhead < 0: {total_low} represents the {round((total_low/total_records)*100,2)}%\")   \n    if total_high > 0:\n        print(f\"  2Number of records max_playhead > video_duration: {total_high} represents the {round((total_high/total_records)*100,2)}%\")   \n    if vid_compl > 0:\n        print(f\"  3Number of records video_complete = true and max_playhead==0: {vid_compl} represents the {round((vid_compl/total_records)*100,2)}%\")   \n    if vid_compl2 > 0:\n        print(f\"  4Number of records video_complete = true and max_playhead > video_duration: {vid_compl2} represents the {round((vid_compl2/total_records)*100,2)}%\")   \n    if playhead_high > 0:\n        print(f\"  5Number of records  playhead_position > video_duration: {playhead_high} represents the {round((playhead_high/total_records)*100,2)}%\")   \n    print('##### Ending max playhead Validation ######')",
   "execution_count": null
  },
  {
   "cell_type": "code",
   "id": "394a71c9-7411-440a-9068-b39e3fc98742",
   "metadata": {
    "language": "python",
    "name": "ad_time",
    "resultHeight": 0,
    "collapsed": false
   },
   "outputs": [],
   "source": "def ad_time_validation(data):\n    print('##### Starting Ad Time Validation ######')\n    total_records = data.shape[0]\n    print(f'{total_records}')\n    adtime_0 = data[(data['TOTAL_ADS_VIEWED'] > 0) & (data['TOTAL_AD_TIME'] == 0)].shape[0]\n    adview_0 = data[(data['TOTAL_ADS_VIEWED'] == 0) & (data['TOTAL_AD_TIME'] > 0)].shape[0]\n    adtime_low = data[data['TOTAL_AD_TIME'] < 0].shape[0]\n    if adtime_0 > 0:\n        print(f\"   Number of records where ads_viewed > 0 and ad_time == 0: {adtime_0} represents the {round((adtime_0/total_records)*100,2)}%\")   \n    if adview_0 > 0:\n        print(f\"   Number of records where ads_viewed == 0 and ad_time > 0: {adview_0} represents the {round((adview_0/total_records)*100,2)}%\")   \n    if adtime_low > 0:\n        print(f\"   Total Ad Time < 0: {adtime_low} represents the {round((adtime_low/total_records)*100,2)}%\")   \n    print('##### Ending Ad Time Validation ######')",
   "execution_count": null
  },
  {
   "cell_type": "code",
   "id": "40784528-ba60-463e-9edc-e305a3720a61",
   "metadata": {
    "language": "python",
    "name": "watch_time",
    "resultHeight": 0,
    "collapsed": false
   },
   "outputs": [],
   "source": "def watch_time_validation(data):\n    print('##### Starting Watch time Validation ######')\n    total_records = data.shape[0]\n    watch_high  = data[data['TOTAL_WATCH_TIME'] > data['TOTAL_SESSION_TIME']].shape[0]\n    watch_lower = data[data['TOTAL_WATCH_TIME'] < 0].shape[0]\n    sess_lower  = data[data['TOTAL_SESSION_TIME'] < 0].shape[0]\n    if watch_high > 0:\n        print(f\"   Total Watch > Total Session: {watch_high} represents the {round((watch_high/total_records)*100,2)}%\")   \n    if watch_lower > 0:\n        print(f\"   Total Watch < 0: {watch_lower} represents the {round((watch_lower/total_records)*100,2)}%\")   \n    if sess_lower > 0:\n        print(f\"   Total Session < 0: {sess_lower} represents the {round((sess_lower/total_records)*100,2)}%\")   \n    print('##### Ending Watch Time Validation ######')",
   "execution_count": null
  },
  {
   "cell_type": "code",
   "id": "e5d8b0b3-1ac3-4eb0-8730-c0778d5c3349",
   "metadata": {
    "language": "sql",
    "name": "vve_query",
    "resultHeight": 511,
    "collapsed": false
   },
   "outputs": [],
   "source": "select \n--HTTPHEADERUSERAGENT, MPARTICLEUSERID, OTHERUSERID, OTHERUSERID3, BATCHID, CLIENTIP, COUNTRYCODE, CITYNAME, POSTALCODE, REGIONCODE, SESSIONID,        \n--        SESSIONSTARTTIMESTAMP, EVENTID, EVENTDATE, EVENTHOUR, EVENTNAME, \n--        EVENTATTRIBUTES, USERATTRIBUTES, MPARTICLEDEVICEID,eventtimestamp,\n        --EVENTATTRIBUTES:\"app_name\" as app_name,\n        --EVENTATTRIBUTES:\"car_data_array\" as car_data_array,\n        --EVENTATTRIBUTES:\"car_make\" as car_make,\n        --EVENTATTRIBUTES:\"car_model\" as car_model,\n        --EVENTATTRIBUTES:\"car_segment\" as car_segment,\n        --EVENTATTRIBUTES:\"car_trim\" as car_trim,\n        --EVENTATTRIBUTES:\"car_year\" as car_year,\n        --EVENTATTRIBUTES:\"content_brand\" as content_brand,\n        --EVENTATTRIBUTES:\"content_id\" as content_id,\n        --EVENTATTRIBUTES:\"content_modification_date\" as content_modification_date,\n        --EVENTATTRIBUTES:\"content_photographer_primary\" as content_photographer_primary,\n        --EVENTATTRIBUTES:\"content_photographer_secondary\" as content_photographer_secondary,\n        --EVENTATTRIBUTES:\"content_publication_date\" as content_publication_date,\n        --EVENTATTRIBUTES:\"content_tags\" as content_tags,\n        --EVENTATTRIBUTES:\"content_title\" as content_title,\n        --EVENTATTRIBUTES:\"content_type\" as content_type,\n        --EVENTATTRIBUTES:\"content_version\" as content_version,\n        --EVENTATTRIBUTES:\"content_writer_primary\" as content_writer_primary,\n        --EVENTATTRIBUTES:\"content_writer_secondary\" as content_writer_secondary,\n        --EVENTATTRIBUTES:\"device_family\" as device_family,\n        --EVENTATTRIBUTES:\"device_screen_area\" as device_screen_area,\n        --EVENTATTRIBUTES:\"device_screen_height\" as device_screen_height,\n        --EVENTATTRIBUTES:\"device_screen_width\" as device_screen_width,\n        --EVENTATTRIBUTES:\"device_user_agent\" as device_user_agent,\n        --EVENTATTRIBUTES:\"device_user_agent_bot\" as device_user_agent_bot,\n        --EVENTATTRIBUTES:\"dq_modifications\" as dq_modifications,\n        --EVENTATTRIBUTES:\"event_name\" as event_name,\n        --EVENTATTRIBUTES:\"inventory_widget_present\" as inventory_widget_present,\n        EVENTATTRIBUTES:\"max_playhead_position\" as max_playhead_position,\n        --EVENTATTRIBUTES:\"nitrous_version\" as nitrous_version,\n        --EVENTATTRIBUTES:\"page_id\" as page_id,\n        --EVENTATTRIBUTES:\"platform_name\" as platform_name,\n        EVENTATTRIBUTES:\"playhead_position\" as playhead_position,\n        --EVENTATTRIBUTES:\"session_id\" as session_id,\n        EVENTATTRIBUTES:\"total_ad_time\" as total_ad_time,\n        EVENTATTRIBUTES:\"total_ads_capacity\" as total_ads_capacity,\n        EVENTATTRIBUTES:\"total_ads_viewed\" as total_ads_viewed,\n        EVENTATTRIBUTES:\"total_session_time\" as total_session_time,\n        EVENTATTRIBUTES:\"total_watch_time\" as total_watch_time,\n        --EVENTATTRIBUTES:\"true_view\" as true_view,\n        --EVENTATTRIBUTES:\"video_casted\" as video_casted,\n        EVENTATTRIBUTES:\"video_completed\" as video_completed,\n        EVENTATTRIBUTES:\"video_duration\" as video_duration,\n        EVENTATTRIBUTES:\"video_id\" as video_id,\n        --EVENTATTRIBUTES:\"video_publication_date\" as video_publication_date,\n        --EVENTATTRIBUTES:\"video_session_id\" as video_session_id,\n        EVENTATTRIBUTES:\"video_source\" as video_source,\n        --EVENTATTRIBUTES:\"video_tags\" as video_tags,\n        --EVENTATTRIBUTES:\"video_title\" as video_title,\n        --EVENTATTRIBUTES:\"video_type\" as video_type,\n        --EVENTATTRIBUTES:\"view_canonical_path\" as view_canonical_path,\n        --EVENTATTRIBUTES:\"view_canonical_url\" as view_canonical_url,\n        --EVENTATTRIBUTES:\"view_count\" as view_count,\n        --EVENTATTRIBUTES:\"view_domain\" as view_domain,\n        --EVENTATTRIBUTES:\"view_group\" as view_group,\n        --EVENTATTRIBUTES:\"view_name\" as view_name,\n        --EVENTATTRIBUTES:\"view_name_previous\" as view_name_previous,\n        --EVENTATTRIBUTES:\"view_path\" as view_path,\n        --EVENTATTRIBUTES:\"view_sponsored\" as view_sponsored,\n        --EVENTATTRIBUTES:\"view_state\" as view_state,\n        --EVENTATTRIBUTES:\"view_subdomain\" as view_subdomain,\n        --EVENTATTRIBUTES:\"view_template\" as view_template,\n        --EVENTATTRIBUTES:\"view_url\" as view_url,\n        EVENTATTRIBUTES:\"window_id\" as window_id,\nfrom MP_VW_EVENT_OTHER_VIDEOVIEWENDED\nWHERE appenvironment = 'Production'\nAND   eventdate = CURRENT_DATE - 1\nAND   APPNAME = 'NextWeb'",
   "execution_count": null
  },
  {
   "cell_type": "code",
   "id": "46fec40f-80c5-44d5-922b-e7539d46497a",
   "metadata": {
    "language": "python",
    "name": "cell2",
    "resultHeight": 57,
    "collapsed": false,
    "codeCollapsed": false
   },
   "outputs": [],
   "source": "vve = vve_query.to_pandas()\nvve.shape",
   "execution_count": null
  },
  {
   "cell_type": "code",
   "id": "fb458415-e84d-4337-9635-cdf52dd9527d",
   "metadata": {
    "language": "python",
    "name": "cell3",
    "resultHeight": 0,
    "collapsed": false
   },
   "outputs": [],
   "source": "vve = remove_double_quotes_from_object_columns(vve)",
   "execution_count": null
  },
  {
   "cell_type": "code",
   "id": "8bba1c11-6155-459f-98b9-a6bc3b96d19d",
   "metadata": {
    "language": "python",
    "name": "cell4",
    "resultHeight": 0,
    "collapsed": false
   },
   "outputs": [],
   "source": "vve['PLAYHEAD_POSITION'] = vve['PLAYHEAD_POSITION'].astype('int64')\nvve['VIDEO_DURATION'] = vve['VIDEO_DURATION'].astype('int64')\nvve['MAX_PLAYHEAD_POSITION'] = vve['MAX_PLAYHEAD_POSITION'].astype('int64')\nvve['TOTAL_AD_TIME'] = vve['TOTAL_AD_TIME'].astype('int64')\nvve['TOTAL_ADS_CAPACITY'] = vve['TOTAL_ADS_CAPACITY'].astype('int64')\nvve['TOTAL_ADS_VIEWED'] = vve['TOTAL_ADS_VIEWED'].astype('int64')\nvve['TOTAL_SESSION_TIME'] = vve['TOTAL_SESSION_TIME'].astype('int64')\nvve['TOTAL_WATCH_TIME'] = vve['TOTAL_WATCH_TIME'].astype('int64')",
   "execution_count": null
  },
  {
   "cell_type": "code",
   "id": "a990afa3-f422-48a6-ae5a-8995884f3502",
   "metadata": {
    "language": "python",
    "name": "cell5",
    "resultHeight": 150,
    "collapsed": false,
    "codeCollapsed": false
   },
   "outputs": [],
   "source": "video_duration_validation(vve)",
   "execution_count": null
  },
  {
   "cell_type": "code",
   "id": "0636a4e6-4176-43c8-a845-52dc1157c988",
   "metadata": {
    "language": "python",
    "name": "cell6",
    "resultHeight": 127,
    "collapsed": false,
    "codeCollapsed": false
   },
   "outputs": [],
   "source": "total_ad_capacity_validation(vve)",
   "execution_count": null
  },
  {
   "cell_type": "code",
   "id": "5ce5c23d-806e-4625-9b6f-f2f1c3869b49",
   "metadata": {
    "language": "python",
    "name": "cell7",
    "resultHeight": 150,
    "collapsed": false
   },
   "outputs": [],
   "source": "max_playhead_validation(vve)",
   "execution_count": null
  },
  {
   "cell_type": "code",
   "id": "99a32d42-2b68-47a6-84cb-845de9cbb7a0",
   "metadata": {
    "language": "python",
    "name": "cell8",
    "resultHeight": 105,
    "collapsed": false
   },
   "outputs": [],
   "source": "ad_time_validation(vve)",
   "execution_count": null
  },
  {
   "cell_type": "code",
   "id": "fd117da6-88a3-4659-a6f3-e3067c42b010",
   "metadata": {
    "language": "python",
    "name": "cell9",
    "resultHeight": 83,
    "collapsed": false
   },
   "outputs": [],
   "source": "watch_time_validation(vve)",
   "execution_count": null
  }
 ]
}