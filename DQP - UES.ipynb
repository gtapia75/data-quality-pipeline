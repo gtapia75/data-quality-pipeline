{
 "metadata": {
  "kernelspec": {
   "display_name": "Streamlit Notebook",
   "name": "streamlit"
  }
 },
 "nbformat_minor": 5,
 "nbformat": 4,
 "cells": [
  {
   "cell_type": "code",
   "id": "3775908f-ca36-4846-8f38-5adca39217f2",
   "metadata": {
    "language": "python",
    "name": "cell1",
    "collapsed": false,
    "resultHeight": 0
   },
   "source": "# Import python packages\nimport streamlit as st\nimport pandas as pd\nimport numpy as np\nfrom datetime import datetime, timedelta\n\n# We can also use Snowpark for our analyses!\nfrom snowflake.snowpark.context import get_active_session\nsession = get_active_session()\nimport warnings\nwarnings.filterwarnings(\"ignore\")",
   "execution_count": null,
   "outputs": []
  },
  {
   "cell_type": "code",
   "id": "d436e86c-57db-4ffc-bc83-fd14cdab381a",
   "metadata": {
    "language": "python",
    "name": "remove_double_quotes",
    "collapsed": false,
    "resultHeight": 0
   },
   "outputs": [],
   "source": "def remove_double_quotes_from_object_columns(df):\n    object_columns = df.select_dtypes(include='object').columns\n    df[object_columns] = df[object_columns].apply(lambda col: col.str.replace('\"', ''))\n    return df",
   "execution_count": null
  },
  {
   "cell_type": "code",
   "id": "256ab8dd-c935-405c-989f-b4e58937e376",
   "metadata": {
    "language": "python",
    "name": "view_duration",
    "collapsed": false,
    "resultHeight": 0
   },
   "outputs": [],
   "source": "def view_duration_validation(data):\n    print('##### Starting View Duration Validation ######')\n    total_records = data.shape[0]\n    data_3600 = data[data['VIEW_DURATION'] >= 3600]\n    count_3600 = data_3600.shape[0]\n    if count_3600 > 0:\n        print(f\"   Number of records with >= 3600: {count_3600} represents the {round((count_3600/total_records)*100,2)}%\")    \n    print('##### Ending View Duration Validation ######')",
   "execution_count": null
  },
  {
   "cell_type": "code",
   "id": "c0bdebe0-1b47-485c-bcd4-48f5f88bdaed",
   "metadata": {
    "language": "python",
    "name": "content_sections",
    "collapsed": false,
    "resultHeight": 0
   },
   "outputs": [],
   "source": "def content_sections_validation(data):\n    print('##### Starting Content Sections Validation ######')\n    total_records = data.shape[0]\n    cs_0 = data[data['CONTENT_SECTIONS_TOTAL'] == 0].shape[0]\n    data = data[data['VIEW_DURATION'] > 0]\n    csv_0 = data[data['CONTENT_SECTIONS_VIEWED'] == 0].shape[0]\n    csvp_0 = data[data['CONTENT_SECTIONS_VIEWED_PERCENT'] == 0].shape[0]\n    highv = data[data['CONTENT_SECTIONS_VIEWED'] > data['CONTENT_SECTIONS_TOTAL']].shape[0]\n    high_csvp = data[data['CONTENT_SECTIONS_VIEWED_PERCENT'] > 1].shape[0]\n    low_csvp = data[data['CONTENT_SECTIONS_VIEWED_PERCENT'] < 0].shape[0]\n    if cs_0 > 0:\n        print(f'   content_sections                = 0: {cs_0} represents the {round((cs_0/total_records)*100,2)}%')\n    if csv_0 > 0:\n        print(f'   content_sections_viewed         = 0: {csv_0} represents the {round((csv_0/total_records)*100,2)}%')\n    if csvp_0 > 0:\n        print(f'   content_sections_viewed_percent = 0: {csvp_0} represents the {round((csvp_0/total_records)*100,2)}%')\n    if highv > 0:\n        print(f'   content_sections_viewed > content_sections_total = {highv} represents the {round((highv/total_records)*100,2)}%')\n    if high_csvp > 0:\n        print(f'   content_sections_viewed_percent > 1 = {high_csvp} represents the {round((high_csvp/total_records)*100,2)}%')\n    if low_csvp > 0:\n        print(f'   content_sections_viewed_percent < 0 = {low_csvp} represents the {round((low_csvp/total_records)*100,2)}%')\n        \n    print('##### Ending Content Sections Validation ######')",
   "execution_count": null
  },
  {
   "cell_type": "code",
   "id": "2e2b603c-89d6-4d3a-a8ab-150e2bdf04f8",
   "metadata": {
    "language": "python",
    "name": "scroll",
    "collapsed": false,
    "resultHeight": 0
   },
   "outputs": [],
   "source": "def scroll_validation(data):\n    print('##### Starting Scroll Validation ######')\n    total_records = data.shape[0]\n    low_300 = data[data['SCROLL_DEPTH'] < 300].shape[0]\n    high_million = data[data['SCROLL_DEPTH'] > 1000000].shape[0]\n    equal_0 = data[data['SCROLL_PERCENTAGE'] == 0].shape[0]\n    sp_0 = data[data['SCROLL_PERCENTAGE'] < 0].shape[0]\n    sp_1 = data[data['SCROLL_PERCENTAGE'] > 1].shape[0]\n    if low_300 > 0:\n        print(f'   scroll depth < 300     = {low_300} represents the {round((low_300/total_records)*100,2)}%')\n    if high_million > 0:\n        print(f'   scroll depth > 1M      = {high_million} represents the {round((high_million/total_records)*100,2)}%')\n    if equal_0 > 0:\n        print(f'   scroll percentage == 0 = {equal_0} represents the {round((equal_0/total_records)*100,2)}%')\n    if sp_0 > 0:\n        print(f'   scroll percentage < 0  = {sp_0} represents the {round((sp_0/total_records)*100,2)}%')\n    if sp_1 > 0:\n        print(f'   scroll percentage > 1  = {sp_1} represents the {round((sp_1/total_records)*100,2)}%')\n    #MISSING scroll_percentage_article validation\n    print('##### Ending Scroll Validation ######')",
   "execution_count": null
  },
  {
   "cell_type": "code",
   "id": "e50fce27-fa77-4500-aae9-845263b688f9",
   "metadata": {
    "language": "python",
    "name": "height",
    "collapsed": false,
    "resultHeight": 0
   },
   "outputs": [],
   "source": "def height_validation(data):\n    print('##### Starting View Heigh Validation ######')\n    total_records =  data.shape[0]\n    low_300 = data[data['VIEW_HEIGHT'] < 300].shape[0]\n    high_2M = data[data['VIEW_HEIGHT'] > 2000000].shape[0]\n    if low_300 > 0:\n        print(f'   view heigth < 300     = {low_300} represents the {round((low_300/total_records)*100,2)}%')\n    if high_2M > 0:\n        print(f'   view heigth > 2M     = {high_2M} represents the {round((high_2M/total_records)*100,2)}%')\n    print('##### Ending View Heigh Validation ######')",
   "execution_count": null
  },
  {
   "cell_type": "code",
   "id": "b178c627-fcd5-44e0-9829-f4d99d95edae",
   "metadata": {
    "language": "python",
    "name": "view_count",
    "collapsed": false,
    "resultHeight": 0
   },
   "outputs": [],
   "source": "def view_count_validation(data, view_threshold):\n    print('##### Starting View Count Validation ######')\n    total_records = data.shape[0]\n    low_0 = data[data['VIEW_COUNT'] <= 0].shape[0]\n    high_thrdf = data[data['VIEW_COUNT'] > view_threshold]\n    high_thr = high_thrdf.shape[0]\n    admedia = high_thrdf['VIEW_URL'].str.contains('utm_source=admedia').sum()\n    \n    if low_0 > 0:\n        print(f'   view count <= 0     = {low_0} represents the {round((low_0/total_records)*100,2)}%')\n    if high_thr > 0:\n        print(f'   Higher than threshold at 95% {view_threshold} = {high_thr} represents the {round((high_thr/total_records)*100,2)}%') \n        print(f'   AdMedia records     = {admedia} represents the {round((admedia/high_thr)*100,2)}%') \n        print(f'   Non AdMedia records = {high_thr- admedia} overall represents the {round(((high_thr-admedia)/total_records)*100,2)}%') \n        \n    print('##### Ending View Count Validation ######')",
   "execution_count": null
  },
  {
   "cell_type": "code",
   "id": "fbcf40e8-0b02-4565-8a56-1813991c7da4",
   "metadata": {
    "language": "python",
    "name": "words",
    "collapsed": false,
    "resultHeight": 0
   },
   "outputs": [],
   "source": "def words_validation(data):\n    print('##### Starting words Validation ######')\n    total_records = data.shape[0]\n    view_names = ['Article', 'List Article'] #,  'Car Model', 'Car Model : Year', 'Car Specs', 'Staff Profile']\n    # if view_name is any of the sections where we are counting words and view_duration > 0\n    # then the word counters cannot be 0\n    base_df = data[(data['VIEW_NAME'].isin(view_names)) & (data['VIEW_DURATION'] > 0)]\n    # identify the null values\n    wc_null = base_df['CONTENT_WORD_COUNT'].isna().sum()\n    wv_null = base_df['CONTENT_WORDS_VIEWED'].isna().sum()\n    wpm_null = base_df['CONTENT_WORDS_PER_MINUTE'].isna().sum()\n    \n    base_df['CONTENT_WORDS_VIEWED'] = base_df['CONTENT_WORDS_VIEWED'].astype('float64')\n    base_df['CONTENT_WORD_COUNT'] = base_df['CONTENT_WORD_COUNT'].astype('float64')\n    base_df['CONTENT_WORDS_PER_MINUTE'] = base_df['CONTENT_WORDS_PER_MINUTE'].astype('float64')\n\n    base_count = base_df.shape[0]\n    wc_0  = base_df[base_df['CONTENT_WORD_COUNT'] == 0].shape[0]\n    wv_0  = base_df[base_df['CONTENT_WORDS_VIEWED'] == 0].shape[0]\n    wpm_0 = base_df[base_df['CONTENT_WORDS_PER_MINUTE'] == 0].shape[0]\n    if wc_null > 0:\n        print(f'   Word Count        == null : {wc_null}')\n    if wc_0 > 0:\n         print(f'   Word Count       == 0 : {wc_0} represents the {round((wc_0/base_count)*100,2)}%')\n    if wv_null > 0:\n        print(f'   Word viewed       == null : {wv_null}')\n    if wv_0 > 0:\n         print(f'   Words Viewed     == 0 : {wv_0} represents the {round((wv_0/base_count)*100,2)}%')\n    if wpm_null > 0:\n        print(f'   Word per minute   == null : {wpm_null}')\n    if wpm_0 > 0:\n         print(f'   Words Per Minute == 0 : {wpm_0} represents the {round((wpm_0/base_count)*100,2)}%')\n    print('##### Ending words Validation ######')\n",
   "execution_count": null
  },
  {
   "cell_type": "code",
   "id": "5aaa250d-0621-40d6-a351-65a3a097cfc5",
   "metadata": {
    "language": "python",
    "name": "view_count_duplicated",
    "collapsed": false,
    "resultHeight": 0
   },
   "outputs": [],
   "source": "def check_duplicate_view_counts(df):\n    session_view_counts = df.groupby('SESSION_ID')['VIEW_COUNT'].agg(list)\n    \n    def has_duplicates(view_counts):\n        return len(view_counts) != len(set(view_counts))\n    sessions_with_duplicates = session_view_counts[session_view_counts.apply(has_duplicates)]\n    \n    duplicate_details = []\n    for session_id, view_counts in sessions_with_duplicates.items():\n        counts = pd.Series(view_counts).value_counts()\n        duplicated_values = counts[counts > 1]\n        for value, count in duplicated_values.items():\n            duplicate_details.append({\n                'session_id': session_id,\n                'view_count_value': value,\n                'times_duplicated': count\n            })\n    \n    total_sessions = len(session_view_counts)\n    sessions_with_dupes = len(sessions_with_duplicates)\n\n    if sessions_with_dupes > 0:\n        print(f'total session_id/view_count : {total_sessions}')\n        print(f'sessions_with_duplicates : {sessions_with_dupes}')\n        print(f'percentage_affected : {round((sessions_with_dupes / total_sessions) * 100, 2)}')",
   "execution_count": null
  },
  {
   "cell_type": "code",
   "id": "8d50cbf4-0c8d-4950-86cb-114990437ac9",
   "metadata": {
    "language": "sql",
    "name": "ues_query",
    "collapsed": false,
    "resultHeight": 511
   },
   "source": "SELECT \n    \"ea content_sections_total\" as content_sections_total,\n    \"ea content_sections_viewed\" as content_sections_viewed,\n    \"ea content_sections_viewed_percent\" as content_sections_viewed_percent,\n    \"ea device_family\" as device_family,\n    \"ea device_screen_area\" as device_screen_area,\n    \"ea device_screen_height\" as device_screen_height,\n    \"ea device_screen_width\" as device_screen_width,\n    \"ea device_user_agent\" as device_user_agent,\n    \"ea device_user_agent_bot\" as device_user_agent_bot,\n    \"ea scroll_depth\" as scroll_depth,\n    \"ea scroll_percentage\" as scroll_percentage,\n    \"ea scroll_percentage_article\" as scroll_perce_article,\n    \"ea view_count\" as view_count,\n    \"ea view_duration\" as view_duration,\n    \"ea view_height\" as view_height,\n    \"ea view_name\" as view_name,\n    \"ea content_words_viewed\" as content_words_viewed,  \n    \"ea content_word_count\" as content_word_count,\n    \"ea content_words_per_minute\" as content_words_per_minute,\n    \"ea view_url\" as view_url,\n    \"ea session_id\" as session_id,\n    SESSIONID\n--select top 10 *\nFROM  PROD_DB_RAW.MPARTICLE.MP_VW_EVENT_OTHER_USERENGAGEMENTSUMMARY\nWHERE appenvironment = 'Production'\nAND   eventdate = CURRENT_DATE - 1\nAND   \"ea app_name\" = 'NextWeb';",
   "execution_count": null,
   "outputs": []
  },
  {
   "cell_type": "code",
   "id": "c695373e-ac74-4b62-a1f1-08206cbd5c81",
   "metadata": {
    "language": "python",
    "name": "cell3",
    "collapsed": false,
    "resultHeight": 57
   },
   "source": "ues = ues_query.to_pandas()\nues.shape",
   "execution_count": null,
   "outputs": []
  },
  {
   "cell_type": "code",
   "id": "e7bd1ef2-c7ac-43a3-9113-b7aaef450edd",
   "metadata": {
    "language": "python",
    "name": "cell2",
    "collapsed": false,
    "resultHeight": 0
   },
   "outputs": [],
   "source": "ues = remove_double_quotes_from_object_columns(ues)",
   "execution_count": null
  },
  {
   "cell_type": "code",
   "id": "c0f60550-8f77-4e4a-861c-80d3f0f80da7",
   "metadata": {
    "language": "python",
    "name": "cell5",
    "collapsed": false,
    "resultHeight": 0
   },
   "outputs": [],
   "source": "ues['VIEW_COUNT'] = ues['VIEW_COUNT'].astype('int64')\nues['VIEW_DURATION'] = ues['VIEW_DURATION'].astype('int64')\n\nues['DEVICE_SCREEN_WIDTH'] = ues['DEVICE_SCREEN_WIDTH'].astype('int64')\nues['DEVICE_SCREEN_HEIGHT'] = ues['DEVICE_SCREEN_HEIGHT'].astype('int64')\nues['DEVICE_SCREEN_AREA'] = ues['DEVICE_SCREEN_AREA'].astype('int64')\n\nues['CONTENT_SECTIONS_VIEWED'] = ues['CONTENT_SECTIONS_VIEWED'].astype('int64')\nues['CONTENT_SECTIONS_TOTAL'] = ues['CONTENT_SECTIONS_TOTAL'].replace([None], np.nan).fillna(-1).astype('int64')\nues['CONTENT_SECTIONS_VIEWED_PERCENT'] = ues['CONTENT_SECTIONS_VIEWED_PERCENT'].astype('float64')\n\nues['SCROLL_DEPTH'] = ues['SCROLL_DEPTH'].astype('int64')\nues['SCROLL_PERCENTAGE'] = ues['SCROLL_PERCENTAGE'].astype('float64')\nues['SCROLL_PERCE_ARTICLE'] = ues['SCROLL_PERCE_ARTICLE'].astype('float64')\nues['VIEW_HEIGHT'] = ues['VIEW_HEIGHT'].astype('int64')\n",
   "execution_count": null
  },
  {
   "cell_type": "code",
   "id": "612d2d69-e535-44e3-8598-83413cc6bf6e",
   "metadata": {
    "language": "python",
    "name": "cell7",
    "collapsed": false,
    "codeCollapsed": false,
    "resultHeight": 83
   },
   "outputs": [],
   "source": "# Step 1: Calculate thresholds based on percentiles\nview_count_threshold = ues['VIEW_COUNT'].quantile(0.95)  # High page views, 95th percentile\nview_duration_low_threshold = ues['VIEW_DURATION'].quantile(0.05)  # Very low duration, 5th percentile\nview_duration_high_threshold = ues['VIEW_DURATION'].quantile(0.95)  # Very high duration, 95th percentile\nprint(f'view_count_threshold --> {view_count_threshold}')\nprint(f'view_duration_low_threshold --> {view_duration_low_threshold}')\nprint(f'view_duration_high_threshold --> {view_duration_high_threshold}')",
   "execution_count": null
  },
  {
   "cell_type": "code",
   "id": "268e3a58-3819-4b86-81be-ff9c94edf3b2",
   "metadata": {
    "language": "python",
    "name": "cell4",
    "codeCollapsed": false,
    "collapsed": false,
    "resultHeight": 83
   },
   "outputs": [],
   "source": "view_duration_validation(ues)",
   "execution_count": null
  },
  {
   "cell_type": "code",
   "id": "2a8f7f65-b949-49c7-a763-4d35f73a42de",
   "metadata": {
    "language": "python",
    "name": "cell6",
    "codeCollapsed": false,
    "resultHeight": 105
   },
   "outputs": [],
   "source": "content_sections_validation(ues)",
   "execution_count": null
  },
  {
   "cell_type": "code",
   "id": "7a9d020f-6931-43cd-8391-3ae45ea4a061",
   "metadata": {
    "language": "python",
    "name": "cell8",
    "codeCollapsed": false,
    "resultHeight": 83
   },
   "outputs": [],
   "source": "scroll_validation(ues)",
   "execution_count": null
  },
  {
   "cell_type": "code",
   "id": "b9a71e9a-16f3-48fe-9a43-8fd29d2e7bf6",
   "metadata": {
    "language": "python",
    "name": "cell9",
    "codeCollapsed": false,
    "resultHeight": 83
   },
   "outputs": [],
   "source": "height_validation(ues)",
   "execution_count": null
  },
  {
   "cell_type": "code",
   "id": "6c0f68b8-4b36-4b1b-8dbf-aca562cc0125",
   "metadata": {
    "language": "python",
    "name": "cell10",
    "codeCollapsed": false,
    "resultHeight": 127
   },
   "outputs": [],
   "source": "view_count_validation(ues, view_count_threshold)",
   "execution_count": null
  },
  {
   "cell_type": "code",
   "id": "94ebda17-f788-4309-a1b0-d8a9b7dd611b",
   "metadata": {
    "language": "python",
    "name": "cell11",
    "codeCollapsed": false,
    "resultHeight": 172
   },
   "outputs": [],
   "source": "words_validation(ues)",
   "execution_count": null
  },
  {
   "cell_type": "code",
   "id": "bffd8671-fd56-4c64-8062-31f80260178e",
   "metadata": {
    "language": "python",
    "name": "cell13",
    "codeCollapsed": false,
    "resultHeight": 83
   },
   "outputs": [],
   "source": "check_duplicate_view_counts(ues)",
   "execution_count": null
  }
 ]
}