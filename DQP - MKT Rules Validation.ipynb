{
 "metadata": {
  "kernelspec": {
   "display_name": "Streamlit Notebook",
   "name": "streamlit"
  }
 },
 "nbformat_minor": 5,
 "nbformat": 4,
 "cells": [
  {
   "cell_type": "code",
   "id": "3775908f-ca36-4846-8f38-5adca39217f2",
   "metadata": {
    "language": "python",
    "name": "cell1",
    "resultHeight": 0
   },
   "source": "# Import python packages\nimport streamlit as st\nimport pandas as pd\nimport numpy as np\nfrom datetime import datetime, timedelta\n#import matplotlib.pyplot as plt\n#import seaborn as sns\nimport urllib.parse\nfrom urllib.parse import urlparse, parse_qs\nimport re\nfrom collections import Counter\n\n# We can also use Snowpark for our analyses!\nfrom snowflake.snowpark.context import get_active_session\nsession = get_active_session()\nimport warnings\nwarnings.filterwarnings(\"ignore\")\n\nerrors_by_rule = Counter()\ncorrect_by_rule = Counter()",
   "execution_count": null,
   "outputs": []
  },
  {
   "cell_type": "code",
   "id": "8d50cbf4-0c8d-4950-86cb-114990437ac9",
   "metadata": {
    "language": "python",
    "name": "count_by_rule_func",
    "codeCollapsed": false,
    "resultHeight": 0
   },
   "source": "def count_by_rule(rule_name, typeof):\n    if typeof == \"E\":\n        errors_by_rule[rule_name] += 1\n    elif typeof == \"C\":\n        correct_by_rule[rule_name] += 1",
   "execution_count": null,
   "outputs": []
  },
  {
   "cell_type": "code",
   "id": "c695373e-ac74-4b62-a1f1-08206cbd5c81",
   "metadata": {
    "language": "python",
    "name": "is_nan_string_func",
    "resultHeight": 0
   },
   "source": "def is_nan_string(value):\n    return (\n        value is None or \n        value != value or  # NaN check \n        str(value).lower() in ['nan', 'none']\n    )",
   "execution_count": null,
   "outputs": []
  },
  {
   "cell_type": "code",
   "id": "5d596b85-a706-4147-b1bc-16a8a22e57cd",
   "metadata": {
    "language": "python",
    "name": "remove_double_quotes",
    "resultHeight": 0
   },
   "outputs": [],
   "source": "def remove_double_quotes_from_object_columns(df):\n    df_cleaned = df.copy()\n    object_columns = df_cleaned.select_dtypes(include='object').columns\n    for col in object_columns:\n        df_cleaned[col] = df_cleaned[col].astype(str).str.replace('\"', '')\n    \n    return df_cleaned",
   "execution_count": null
  },
  {
   "cell_type": "code",
   "id": "7e6bbf22-93a2-470a-b0e8-d1ad59b29d22",
   "metadata": {
    "language": "python",
    "name": "create_rules",
    "resultHeight": 0,
    "codeCollapsed": false
   },
   "outputs": [],
   "source": "def create_rules_dataframe():\n    rules_data = [\n        {\n            'RULE NAME': 'Organic Email',\n            'RULE': 'utm_medium = email',\n            'MARKETING_CHANNEL': 'Email',\n            'MARKETING_CHANNEL_ROLLUP': 'Email',\n            'MARKETING_TYPE': 'Organic'\n        },\n        {\n            'RULE NAME': 'Organic Email',\n            'RULE': 'utm_medium = emaileditorial',\n            'MARKETING_CHANNEL': 'Email',\n            'MARKETING_CHANNEL_ROLLUP': 'Email',\n            'MARKETING_TYPE': 'Organic'\n        },\n        {\n            'RULE NAME': 'Admedia',\n            'RULE': 'utm_source = admedia',\n            'MARKETING_CHANNEL': 'AdMedia',\n            'MARKETING_CHANNEL_ROLLUP': 'Paid Search',\n            'MARKETING_TYPE': 'Paid'\n        },\n        {\n            'RULE NAME': 'Ad.net',\n            'RULE': 'utm_source = adnet',\n            'MARKETING_CHANNEL': 'Ad.net',\n            'MARKETING_CHANNEL_ROLLUP': 'Paid Search',\n            'MARKETING_TYPE': 'Paid'\n        },\n        {\n            'RULE NAME': 'Paid Search',\n            'RULE': 'utm_medium = sem',\n            'MARKETING_CHANNEL': 'Search',\n            'MARKETING_CHANNEL_ROLLUP': 'Paid Search',\n            'MARKETING_TYPE': 'Paid'\n        },\n        {\n            'RULE NAME': 'Paid Search',\n            'RULE': 'utm_medium = paid_search',\n            'MARKETING_CHANNEL': 'Search',\n            'MARKETING_CHANNEL_ROLLUP': 'Paid Search',\n            'MARKETING_TYPE': 'Paid'\n        },\n        {\n            'RULE NAME': 'Paid Display',\n            'RULE': 'utm_medium = display and utm_type = paid',\n            'MARKETING_CHANNEL': 'Display',\n            'MARKETING_CHANNEL_ROLLUP': 'Paid Other',\n            'MARKETING_TYPE': 'Paid'\n        },\n        {\n            'RULE NAME': 'Paid Linear',\n            'RULE': 'utm_medium = radio and utm_type = paid',\n            'MARKETING_CHANNEL': 'Linear',\n            'MARKETING_CHANNEL_ROLLUP': 'Paid Other',\n            'MARKETING_TYPE': 'Paid'\n        },\n        {\n            'RULE NAME': 'Paid Linear',\n            'RULE': 'utm_medium = linear and utm_type = paid',\n            'MARKETING_CHANNEL': 'Linear',\n            'MARKETING_CHANNEL_ROLLUP': 'Paid Other',\n            'MARKETING_TYPE': 'Paid'\n        },\n        {\n            'RULE NAME': 'Paid Event',\n            'RULE': 'utm_medium = event and utm_type = paid',\n            'MARKETING_CHANNEL': 'Event',\n            'MARKETING_CHANNEL_ROLLUP': 'Paid Other',\n            'MARKETING_TYPE': 'Paid'\n        },\n        {\n            'RULE NAME': 'Paid Social',\n            'RULE': 'utm_medium = social and utm_type = paid',\n            'MARKETING_CHANNEL': 'Social',\n            'MARKETING_CHANNEL_ROLLUP': 'Paid Social',\n            'MARKETING_TYPE': 'Paid'\n        },\n        {\n            'RULE NAME': 'True Anthem Social',\n            'RULE': 'utm_campaign = true_anthem',\n            'MARKETING_CHANNEL': 'Social',\n            'MARKETING_CHANNEL_ROLLUP': 'Organic Social',\n            'MARKETING_TYPE': 'Organic'\n        },\n        {\n            'RULE NAME': 'Legacy Paid Social',\n            'RULE': 'sm_id',\n            'MARKETING_CHANNEL': 'Social',\n            'MARKETING_CHANNEL_ROLLUP': 'Paid Social',\n            'MARKETING_TYPE': 'Paid'\n        },\n        {\n            'RULE NAME': 'Paid Magazine',\n            'RULE': 'utm_medium = magazine and utm_type = paid',\n            'MARKETING_CHANNEL': 'Magazine',\n            'MARKETING_CHANNEL_ROLLUP': 'Paid Other',\n            'MARKETING_TYPE': 'Paid'\n        },\n        {\n            'RULE NAME': 'Organic Display',\n            'RULE': 'utm_medium = display',\n            'MARKETING_CHANNEL': 'Display',\n            'MARKETING_CHANNEL_ROLLUP': 'External Referral',\n            'MARKETING_TYPE': 'Organic'\n        },\n        {\n            'RULE NAME': 'Organic Owned Social',\n            'RULE': 'utm_medium = social and utm_campaign ',\n            'MARKETING_CHANNEL': 'Owned Social',\n            'MARKETING_CHANNEL_ROLLUP': 'Organic Social',\n            'MARKETING_TYPE': 'Organic'\n        },\n        {\n            'RULE NAME': 'Organic Social',\n            'RULE': 'referrer_domain contains facebook.com instagram.com twitter.com linkedin.com pinterest.com snapchat.com tiktok.com reddit.com youtube.com tumblr.com',\n            'MARKETING_CHANNEL': 'Social',\n            'MARKETING_CHANNEL_ROLLUP': 'Organic Social',\n            'MARKETING_TYPE': 'Organic'\n        },        \n        {\n            'RULE NAME': 'Organic Search',\n            'RULE': 'referrer_domain contains google.com bing.com yahoo.com duckduckgo.com ask.com aol.com yandex.com qwant.com startpage.com dogpile.com',\n            'MARKETING_CHANNEL': 'Search',\n            'MARKETING_CHANNEL_ROLLUP': 'Natural Search',\n            'MARKETING_TYPE': 'Organic'\n        },        \n        {\n            'RULE NAME': 'Organic Discover',\n            'RULE': 'referrer_domain contains quicksearchbox.com googlequicksearchbox googleapis.com',\n            'MARKETING_CHANNEL': 'Search',\n            'MARKETING_CHANNEL_ROLLUP': 'Natural Search',\n            'MARKETING_TYPE': 'Organic'\n        },        \n        {\n            'RULE NAME': 'Web Push',\n            'RULE': 'utm_medium = webpush',\n            'MARKETING_CHANNEL': 'Web Push',\n            'MARKETING_CHANNEL_ROLLUP': 'Web Push',\n            'MARKETING_TYPE': 'Organic'\n        },        \n        {\n            'RULE NAME': 'Web Push',\n            'RULE': 'utm_campaign = webpush',\n            'MARKETING_CHANNEL': 'Web Push',\n            'MARKETING_CHANNEL_ROLLUP': 'Web Push',\n            'MARKETING_TYPE': 'Organic'\n        },        \n        {\n            'RULE NAME': 'Organic WBD',\n            'RULE': 'referrer_domain contains warnerbros.com discovery.com hbomax.com hbo.com cnn.com cartoonnetwork.com tntdrama.com tbs.com dccomics.com hgtv.com foodnetwork.com animalplanet.com tlc.com travelchannel.com investigationdiscovery.com dcuniverse.com',\n            'MARKETING_CHANNEL': 'WBD',\n            'MARKETING_CHANNEL_ROLLUP': 'External Referral',\n            'MARKETING_TYPE': 'Organic'\n        },        \n        {\n            'RULE NAME': 'Organic Referring Domain',\n            'RULE': 'referrer_domain exists and not contains motortrend.com hotrod.com vercel.app vercel.com localhost',\n            'MARKETING_CHANNEL': 'Referring Domains',\n            'MARKETING_CHANNEL_ROLLUP': 'External Referral',\n            'MARKETING_TYPE': 'Organic'\n        },        \n        {\n            'RULE NAME': 'Internal Referral',\n            'RULE': 'referrer_domain contains motortrend.com hotrod.com vercel.app vercel.com',\n            'MARKETING_CHANNEL': 'Internal Referral',\n            'MARKETING_CHANNEL_ROLLUP': 'Direct',\n            'MARKETING_TYPE': 'Organic'\n        },        \n        {\n            'RULE NAME': 'Organic Direct',\n            'RULE': 'referrer_domain not exists',\n            'MARKETING_CHANNEL': 'Direct',\n            'MARKETING_CHANNEL_ROLLUP': 'Direct',\n            'MARKETING_TYPE': 'Organic'\n        },        \n\n    ]\n    return pd.DataFrame(rules_data)",
   "execution_count": null
  },
  {
   "cell_type": "code",
   "id": "dfc565a5-0626-4b79-9666-874ebb3ad7c1",
   "metadata": {
    "language": "python",
    "name": "extract_utm",
    "resultHeight": 0
   },
   "outputs": [],
   "source": "def extract_utm_params(url, domain):\n    url = url.lower()\n    parsed_url = urlparse(url)\n    query_params = parse_qs(parsed_url.query)\n    utm_params = {\n        'utm_medium': '',\n        'utm_source': '',\n        'utm_type': '',\n        'utm_campaign': '',\n        'sm_id':'',\n        'referrer_domain':''\n    }\n    for key in utm_params:\n        if key in query_params:\n            utm_params[key] = query_params[key][0]\n\n    if not is_nan_string(domain):\n        domain = urllib.parse.urlsplit(domain)\n        utm_params['referrer_domain'] = domain.netloc\n\n    return utm_params",
   "execution_count": null
  },
  {
   "cell_type": "code",
   "id": "79505b9e-49f6-4f44-8dc1-69be6ad10551",
   "metadata": {
    "language": "python",
    "name": "match_utm",
    "resultHeight": 0
   },
   "outputs": [],
   "source": "def match_utm_rules(utm_dict, rules_df):\n    # Convert input dictionary values to lowercase for case-insensitive matching\n    utm_dict_lower = {k.lower(): str(v).lower() for k, v in utm_dict.items()}\n    \n    # Iterate through rules in order\n    for _, rule in rules_df.iterrows():\n        rule_str = rule['RULE'].lower()\n        # Break down complex rule matching\n        rule_matched = False\n        \n        # Handle 'contains' rules for referrer domain\n        if 'referrer_domain contains' in rule_str:\n            #print(\"1.-\", rule['RULE NAME'])\n            #print(\"2.-\", rule_str)\n            # Extract domains to check\n            domains = rule_str.split('contains')[1].strip().split()\n            #print(domains)\n            # Check if referrer domain is present and contains any of the specified domains\n            if 'referrer_domain' in utm_dict_lower:\n                referrer_domain = utm_dict_lower.get('referrer_domain', '')\n                #print(\"-->\", referrer_domain)\n                if referrer_domain != \"\":\n                    rule_matched = any(domain in referrer_domain for domain in domains)\n                #else:\n                #    print(\"1/2 referrer_domain EMPTY!\")\n        elif 'referrer_domain not exists' in rule_str:\n            #print(\"3.-\", rule['RULE NAME'])\n            #print(\"4.-\", rule_str)\n            if 'referrer_domain' in utm_dict_lower:\n                referrer_domain = utm_dict_lower.get('referrer_domain','')\n                if referrer_domain == \"\":\n                    rule_matched = True\n        elif 'referrer_domain exists and not contains' in rule_str:\n            #print(\"5.-\", rule['RULE NAME'])\n            #print(\"6.-\", rule_str)\n            # Extract domains to check\n            domains = rule_str.split('contains')[1].strip().split()\n            #print(domains)\n            # Check if referrer domain is present and contains any of the specified domains\n            if 'referrer_domain' in utm_dict_lower:\n                referrer_domain = utm_dict_lower.get('referrer_domain', '')\n                if referrer_domain != \"\":\n                    #print(\"-->\", referrer_domain)\n                    rule_matched = any(domain in referrer_domain for domain in domains)\n                    if rule_matched == True:\n                        rule_matched = False\n                    else:\n                        rule_matched = True\n        \n        # Handle simple equality checks\n        else:\n            # Split rule into individual conditions\n            conditions = rule_str.split(' and ')\n            \n            # Track if all conditions are met\n            condition_results = []\n            \n            for condition in conditions:\n                # Remove any leading/trailing whitespace\n                condition = condition.strip()\n                \n                # Check for equality conditions\n                if '=' in condition:\n                    key, value = [part.strip() for part in condition.split('=')]\n                    \n                    # Special handling for empty or non-empty checks\n                    if value == '':\n                        # Check if key exists but is empty\n                        condition_results.append(\n                            utm_dict_lower.get(key, '') == ''\n                        )\n                    else:\n                        # Check if key exists and matches the value\n                        condition_results.append(\n                            utm_dict_lower.get(key, '') == value\n                        )\n                \n                # Check for 'contains' or other conditions\n                elif ' ' not in condition:\n                    # Simple key presence check\n                    condition_results.append(\n                        condition in utm_dict_lower and \n                        utm_dict_lower[condition] != ''\n                    )\n            \n            # Rule matches if all conditions are true\n            rule_matched = all(condition_results)\n        \n        # If rule is matched, return the rule details\n        if rule_matched:\n            return {\n                'RULE NAME': rule['RULE NAME'],\n                'MARKETING_CHANNEL': rule['MARKETING_CHANNEL'],\n                'MARKETING_CHANNEL_ROLLUP': rule['MARKETING_CHANNEL_ROLLUP'],\n                'MARKETING_TYPE': rule['MARKETING_TYPE']\n            }\n    \n    # No rule matched\n    return None",
   "execution_count": null
  },
  {
   "cell_type": "code",
   "id": "0547fdbd-58a3-4961-b5ab-467557c86b05",
   "metadata": {
    "language": "python",
    "name": "rules_validation_func",
    "resultHeight": 0
   },
   "outputs": [],
   "source": "def rules_validation(input_df, rules_df):\n    file = open('mkt_errors.txt','w')\n    try:\n        for _, row in input_df.iterrows():\n            viewurl_tovalidate = row['VIEW_URL']\n            referrerdomain_tovalidate = row['REFERRER_DOMAIN']\n            if pd.isnull(referrerdomain_tovalidate):\n                referrerdomain_tovalidate = \"\"\n            theDict = extract_utm_params(viewurl_tovalidate, referrerdomain_tovalidate)\n            #for key, value in theDict.items():\n            #    print(f\"Key: {key}, Value: {value}\")\n            active_rule = match_utm_rules(theDict, rules_df)\n            #print(\"Input:\", theDict)\n            #print(\"Matched Rule:\", active_rule)\n            if (active_rule.get(\"MARKETING_CHANNEL\") == row['MARKETING_CHANNEL']) and (active_rule.get(\"MARKETING_CHANNEL_ROLLUP\")==row['MARKETING_CHANNEL_ROLLUP']) and (active_rule.get(\"MARKETING_TYPE\")==row['MARKETING_TYPE']):\n                count_by_rule(active_rule.get(\"RULE NAME\"), \"C\")\n            else:\n                count_by_rule(active_rule.get(\"RULE NAME\"), \"E\")\n                file.write(\"view_url:\" + viewurl_tovalidate + '\\n')\n                file.write(\"referrer_domain\" + referrerdomain_tovalidate + '\\n')\n                file.write(\"    Rule based on view_url:\" + active_rule.get(\"RULE NAME\") + '\\n')\n                file.write(\"      By Rule <- vs -> Assigned\" + '\\n')\n                file.write(\"     \" + active_rule.get(\"MARKETING_CHANNEL\") +        ' <----->' + row['MARKETING_CHANNEL'] + '\\n')\n                file.write(\"     \" + active_rule.get(\"MARKETING_CHANNEL_ROLLUP\") + ' <----->' + row['MARKETING_CHANNEL_ROLLUP'] + '\\n')\n                file.write(\"     \" + active_rule.get(\"MARKETING_TYPE\") +           ' <----->' + row['MARKETING_TYPE'] + '\\n')\n    finally:\n        file.close()",
   "execution_count": null
  },
  {
   "cell_type": "code",
   "id": "87d5f5e6-2d8c-4554-8666-d76a49e024d2",
   "metadata": {
    "language": "python",
    "name": "cell2",
    "resultHeight": 0,
    "collapsed": false
   },
   "outputs": [],
   "source": "rules_df = create_rules_dataframe()",
   "execution_count": null
  },
  {
   "cell_type": "code",
   "id": "b10c9cec-fa4c-43c5-aaa9-11d086ddf1b8",
   "metadata": {
    "language": "sql",
    "name": "pv_query",
    "collapsed": false,
    "resultHeight": 0
   },
   "outputs": [],
   "source": "select HTTPHEADERUSERAGENT, MPARTICLEUSERID, OTHERUSERID, OTHERUSERID3, BATCHID, CLIENTIP, COUNTRYCODE, CITYNAME, POSTALCODE, REGIONCODE, SESSIONID, SESSIONSTARTTIMESTAMP, EVENTID, EVENTDATE, EVENTHOUR, EVENTNAME, \n        MPARTICLEDEVICEID,eventtimestamp,\n\t\tEVENTATTRIBUTES:\"app_name\" as app_name,\n\t\tEVENTATTRIBUTES:\"car_data_array\" as car_data_array,\n\t\tEVENTATTRIBUTES:\"car_make\" as car_make,\n\t\tEVENTATTRIBUTES:\"car_model\" as car_model,\n\t\tEVENTATTRIBUTES:\"car_segment\" as car_segment,\n\t\tEVENTATTRIBUTES:\"car_year\" as car_year,\n\t\tEVENTATTRIBUTES:\"content_brand\" as content_brand,\n\t\tEVENTATTRIBUTES:\"content_id\" as content_id,\n\t\tEVENTATTRIBUTES:\"content_modification_date\" as content_modification_date,\n\t\tEVENTATTRIBUTES:\"content_photographer_primary\" as content_photographer_primary,\n\t\tEVENTATTRIBUTES:\"content_photographer_secondary\" as content_photographer_secondary,\n\t\tEVENTATTRIBUTES:\"content_publication_date\" as content_publication_date,\n\t\tEVENTATTRIBUTES:\"content_tags\" as content_tags,\n\t\tEVENTATTRIBUTES:\"content_title\" as content_title,\n\t\tEVENTATTRIBUTES:\"content_type\" as content_type,\n\t\tEVENTATTRIBUTES:\"content_version\" as content_version,\n\t\tEVENTATTRIBUTES:\"content_writer_primary\" as content_writer_primary,\n\t\tEVENTATTRIBUTES:\"device_family\" as device_family,\n\t\tEVENTATTRIBUTES:\"device_screen_area\" as device_screen_area,\n\t\tEVENTATTRIBUTES:\"device_screen_height\" as device_screen_height,\n\t\tEVENTATTRIBUTES:\"device_screen_width\" as device_screen_width,\n\t\tEVENTATTRIBUTES:\"device_user_agent\" as device_user_agent,\n\t\tEVENTATTRIBUTES:\"inventory_widget_present\" as inventory_widget_present,\n\t\tEVENTATTRIBUTES:\"nitrous_version\" as nitrous_version,\n\t\tEVENTATTRIBUTES:\"page_id\" as page_id,\n\t\tEVENTATTRIBUTES:\"platform_name\" as platform_name,\n\t\tEVENTATTRIBUTES:\"session_id\" as session_id,\n\t\tEVENTATTRIBUTES:\"true_view\" as true_view,\n\t\tEVENTATTRIBUTES:\"view_canonical_path\" as view_canonical_path,\n\t\tEVENTATTRIBUTES:\"view_canonical_url\" as view_canonical_url,\n\t\tEVENTATTRIBUTES:\"view_count\" as view_count,\n\t\tEVENTATTRIBUTES:\"view_domain\" as view_domain,\n\t\tEVENTATTRIBUTES:\"view_group\" as view_group,\n\t\tEVENTATTRIBUTES:\"view_name\" as view_name,\n\t\tEVENTATTRIBUTES:\"view_name_previous\" as view_name_previous,\n\t\tEVENTATTRIBUTES:\"view_path\" as view_path,\n\t\tEVENTATTRIBUTES:\"view_subdomain\" as view_subdomain,\n\t\tEVENTATTRIBUTES:\"view_template\" as view_template,\n\t\tEVENTATTRIBUTES:\"view_url\" as view_url,\n\t\tEVENTATTRIBUTES:\"window_id\" as window_id,\n        USERATTRIBUTES:\"firsttouch_marketing_channel\" as firsttouch_marketing_channel,\n        USERATTRIBUTES:\"firsttouch_marketing_channel_rollup\" as firsttouch_marketing_channel_rollup,\n        USERATTRIBUTES:\"firsttouch_marketing_type\" as firsttouch_marketing_type,\n        USERATTRIBUTES:\"marketing_channel\" as marketing_channel,\n        USERATTRIBUTES:\"marketing_channel_rollup\" as marketing_channel_rollup,\n        USERATTRIBUTES:\"marketing_type\" as marketing_type,\n        USERATTRIBUTES:\"utm_campaign\" as utm_campaign,\n        USERATTRIBUTES:\"utm_content\" as utm_content,\n        USERATTRIBUTES:\"utm_id\" as utm_id,\n        USERATTRIBUTES:\"utm_medium\" as utm_medium,\n        USERATTRIBUTES:\"utm_source\" as utm_source,\n        USERATTRIBUTES:\"utm_term\" as utm_term,\n        USERATTRIBUTES:\"utm_type\" as utm_type,\n        USERATTRIBUTES:\"referrer_domin\" as referrer_domain\nfrom MP_VW_OTHEREVENTS\nWHERE appenvironment = 'Production'\nAND   eventdate = CURRENT_DATE - 1\nAND   APPNAME = 'NextWeb'\nAND   eventname = 'Page/Screen'",
   "execution_count": null
  },
  {
   "cell_type": "code",
   "id": "a08518c6-9536-4771-8d5b-1476f3be3ec6",
   "metadata": {
    "language": "python",
    "name": "cell3",
    "collapsed": false,
    "resultHeight": 0
   },
   "outputs": [],
   "source": "mkt = pv_query.to_pandas()\nmkt.shape",
   "execution_count": null
  },
  {
   "cell_type": "code",
   "id": "42d38c35-cacb-47e3-8ef1-704a7b1c5c8e",
   "metadata": {
    "language": "python",
    "name": "cell9",
    "resultHeight": 0
   },
   "outputs": [],
   "source": "mkt.columns = mkt.columns.str.upper()",
   "execution_count": null
  },
  {
   "cell_type": "code",
   "id": "bb9ebaa0-6342-4dd6-af6d-9469dcbbf0da",
   "metadata": {
    "language": "python",
    "name": "cell4",
    "collapsed": false,
    "resultHeight": 0,
    "codeCollapsed": false
   },
   "outputs": [],
   "source": "mkt = remove_double_quotes_from_object_columns(mkt)\n",
   "execution_count": null
  },
  {
   "cell_type": "code",
   "id": "815db60d-6e18-46fb-afce-7eab73de9e0f",
   "metadata": {
    "language": "python",
    "name": "cell10",
    "codeCollapsed": false,
    "resultHeight": 0
   },
   "outputs": [],
   "source": "mkt['MARKETING_CHANNEL'] = mkt['MARKETING_CHANNEL'].fillna('')\nmkt['MARKETING_CHANNEL_ROLLUP'] = mkt['MARKETING_CHANNEL_ROLLUP'].fillna('')\nmkt['MARKETING_TYPE'] = mkt['MARKETING_TYPE'].fillna('')\nmkt['REFERRER_DOMAIN'] = mkt['REFERRER_DOMAIN'].fillna('')\nmkt['VIEW_URL'] = mkt['VIEW_URL'].fillna('')",
   "execution_count": null
  },
  {
   "cell_type": "code",
   "id": "d7f59243-2fe1-4f20-bbec-c69e74c82dcf",
   "metadata": {
    "language": "python",
    "name": "cell5",
    "codeCollapsed": false,
    "resultHeight": 0
   },
   "outputs": [],
   "source": "rules_validation(mkt, rules_df)",
   "execution_count": null
  },
  {
   "cell_type": "code",
   "id": "f5bf71d9-7757-4184-8379-1460359823bb",
   "metadata": {
    "language": "python",
    "name": "cell6",
    "codeCollapsed": false,
    "resultHeight": 0
   },
   "outputs": [],
   "source": "print(errors_by_rule)",
   "execution_count": null
  }
 ]
}